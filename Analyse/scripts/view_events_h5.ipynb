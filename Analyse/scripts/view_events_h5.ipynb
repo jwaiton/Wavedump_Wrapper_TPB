{
 "cells": [
  {
   "cell_type": "code",
   "execution_count": 17,
   "metadata": {},
   "outputs": [],
   "source": [
    "import sys,os,os.path\n",
    "\n",
    "# tell python to look for the path to analyse\n",
    "module_path = os.path.abspath(os.path.join('..'))\n",
    "if module_path not in sys.path:\n",
    "    sys.path.append(module_path)\n",
    "\n",
    "import numpy as np\n",
    "import matplotlib.pyplot as plt\n",
    "from os import walk\n",
    "from os.path import exists\n",
    "from os import mkdir\n",
    "from scipy import stats\n",
    "import h5py\n",
    "import pandas as pd\n",
    "import tables as tb\n",
    "from tqdm import tqdm\n",
    "\n",
    "from core import processing as proc\n",
    "from core import plotting as pl\n",
    "from core import misc as misc"
   ]
  },
  {
   "cell_type": "code",
   "execution_count": 22,
   "metadata": {},
   "outputs": [],
   "source": [
    "# set yout full path\n",
    "storage = \"/home/e78368jw/Documents/TPB_Project/Wavedump_Wrapper_TPB/storage/\"\n",
    "RUN_NO = \"RUN000063\"\n",
    "PATH = storage + \"John/testing/\" + RUN_NO + \"/PMT/Nominal/\"\n",
    "event_name = \"wave_6.h5\"\n",
    "output_dir = storage + \"John/testing/RUN000063/PMT/\"\n"
   ]
  },
  {
   "cell_type": "code",
   "execution_count": 23,
   "metadata": {},
   "outputs": [
    {
     "name": "stdout",
     "output_type": "stream",
     "text": [
      "['pmtrw']\n",
      "<HDF5 dataset \"pmtrw\": shape (345774, 150), type \"<u2\">\n",
      "[8196 8192 8198 8195 8191 8194 8194 8194 8194 8189 8190 8192 8195 8194\n",
      " 8196 8194 8190 8194 8192 8195 8190 8199 8190 8192 8192 8194 8191 8194\n",
      " 8193 8196 8195 8196 8191 8191 8198 8196 8201 8192 8193 8193 8192 8190\n",
      " 8195 8197 8193 8197 8192 8197 8196 8191 8193 8195 8188 8193 8193 8192\n",
      " 8195 8194 8190 8198 8192 8191 8194 8188 8196 8194 8190 8195 8196 8196\n",
      " 8199 8194 8190 8191 8197 8190 8198 8193 8195 8189 8201 8195 8187 8201\n",
      " 8195 8189 8191 8205 8195 8194 8190 8197 8193 8195 8189 8186 8200 8196\n",
      " 8191 8189 8201 8189 8193 8195 8194 8196 8188 8201 8190 8196 8194 8193\n",
      " 8194 8193 8195 8194 8196 8191 8197 8189 8196 8193 8193 8194 8192 8194\n",
      " 8189 8195 8193 8195 8190 8197 8191 8193 8195 8196 8195 8193 8197 8193\n",
      " 8202 8193 8195 8189 8203 8197 8190 8198 8192 8195]\n"
     ]
    }
   ],
   "source": [
    "f = h5py.File(PATH + event_name)\n",
    "# keys of the file\n",
    "print(list(f.keys()))\n",
    "# shape\n",
    "print(f['pmtrw'])\n",
    "# event\n",
    "print(f['pmtrw'][0])\n"
   ]
  },
  {
   "cell_type": "code",
   "execution_count": 18,
   "metadata": {},
   "outputs": [
    {
     "name": "stdout",
     "output_type": "stream",
     "text": [
      "Cooking data...\n"
     ]
    },
    {
     "name": "stderr",
     "output_type": "stream",
     "text": [
      "100%|██████████| 345774/345774 [00:30<00:00, 11488.87it/s]\n"
     ]
    }
   ],
   "source": [
    "ADC_list = []\n",
    "print(\"Cooking data...\")\n",
    "# collect ADC values over all array positions\n",
    "for i in tqdm(range(len(f['pmtrw']))):\n",
    "    # collect event\n",
    "    a = f['pmtrw'][i]\n",
    "\n",
    "    # flip to positive\n",
    "    a = -a\n",
    "    b = proc.subtract_baseline(a, type = 'median')\n",
    "    c = proc.integrate_range(b, window = 10, debug=False)\n",
    "\n",
    "    ADC_list += (c),\n",
    "    "
   ]
  },
  {
   "cell_type": "code",
   "execution_count": 25,
   "metadata": {},
   "outputs": [
    {
     "name": "stdout",
     "output_type": "stream",
     "text": [
      "Displaying ADC data...\n",
      "Min: -51.0      Max: 821.0\n"
     ]
    },
    {
     "data": {
      "image/png": "[encoded data removed]",
      "text/plain": [
       "<Figure size 640x480 with 1 Axes>"
      ]
     },
     "metadata": {},
     "output_type": "display_data"
    }
   ],
   "source": [
    "print(\"Displaying ADC data...\")\n",
    "print(\"Min: {}      Max: {}\".format(min(ADC_list), max(ADC_list)))\n",
    "plt.hist(ADC_list, bins = 200)\n",
    "plt.yscale('log')\n",
    "plt.title(RUN_NO + \" - ADC\")\n",
    "plt.xlabel('ADC values')\n",
    "plt.ylabel('Counts')\n",
    "plt.show()"
   ]
  },
  {
   "cell_type": "code",
   "execution_count": null,
   "metadata": {},
   "outputs": [],
   "source": []
  }
 ],
 "metadata": {
  "kernelspec": {
   "display_name": "Python 3",
   "language": "python",
   "name": "python3"
  },
  "language_info": {
   "codemirror_mode": {
    "name": "ipython",
    "version": 3
   },
   "file_extension": ".py",
   "mimetype": "text/x-python",
   "name": "python",
   "nbconvert_exporter": "python",
   "pygments_lexer": "ipython3",
   "version": "3.10.12"
  }
 },
 "nbformat": 4,
 "nbformat_minor": 2
}
